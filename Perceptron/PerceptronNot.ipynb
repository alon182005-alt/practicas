{
  "nbformat": 4,
  "nbformat_minor": 0,
  "metadata": {
    "colab": {
      "provenance": [],
      "authorship_tag": "ABX9TyOGRzhHFOvOd5cQ56Owld8g",
      "include_colab_link": true
    },
    "kernelspec": {
      "name": "python3",
      "display_name": "Python 3"
    },
    "language_info": {
      "name": "python"
    }
  },
  "cells": [
    {
      "cell_type": "markdown",
      "metadata": {
        "id": "view-in-github",
        "colab_type": "text"
      },
      "source": [
        "<a href=\"https://colab.research.google.com/github/alon182005-alt/practicas/blob/main/Perceptron/PerceptronNot.ipynb\" target=\"_parent\"><img src=\"https://colab.research.google.com/assets/colab-badge.svg\" alt=\"Open In Colab\"/></a>"
      ]
    },
    {
      "cell_type": "markdown",
      "source": [
        "##  implementación del Perceptrón NOT:\n",
        "\n",
        "Perceptrón para la Operación Lógica NOT\n",
        "El Perceptrón simula la compuerta NOT (inversión de x\n",
        "1\n",
        "​\n",
        " ) utilizando una estructura de dos entradas, donde x\n",
        "2\n",
        "​\n",
        "  se mantiene fija en cero.\n",
        "\n",
        "La decisión se basa en la suma ponderada (z=w\n",
        "1\n",
        "​\n",
        " ⋅x\n",
        "1\n",
        "​\n",
        " +w\n",
        "2\n",
        "​\n",
        " ⋅x\n",
        "2\n",
        "​\n",
        " +b) pasada por una función de umbral.\n",
        "\n",
        "Para que funcione, el Perceptrón requiere:\n",
        "\n",
        "Un peso negativo para x\n",
        "1\n",
        "​\n",
        "  (w\n",
        "1\n",
        "​\n",
        " =−1).\n",
        "\n",
        "Un sesgo positivo (b=0.5).\n",
        "\n",
        "Esto garantiza que:\n",
        "\n",
        "Si x\n",
        "1\n",
        "​\n",
        " =0⟹z≥0⟹Salida 1.\n",
        "\n",
        "Si x\n",
        "1\n",
        "​\n",
        " =1⟹z<0⟹Salida 0."
      ],
      "metadata": {
        "id": "UK0IcZDjiyHK"
      }
    },
    {
      "cell_type": "code",
      "source": [
        "class Perceptron:\n",
        "    def __init__ (self, pesos, sesgo,tasa_de_aprendizaje):\n",
        "        \"\"\"\n",
        "        Parametros:\n",
        "            pesos: es una lista\n",
        "            sesgo: es un float\n",
        "            tasa_de_aprendizaje: es un float\n",
        "        \"\"\"\n",
        "        self.pesos = pesos\n",
        "        self.sesgo = sesgo\n",
        "        self.tasa_de_aprendizaje = tasa_de_aprendizaje\n",
        "\n",
        "    def funcion_de_activacion(self, z):\n",
        "        \"\"\"\n",
        "         Parametros:\n",
        "           z es el resultado del producto de X con pesos + el sesgo\n",
        "        \"\"\"\n",
        "        if z >= 0:\n",
        "            return 1\n",
        "        else:\n",
        "            return 0\n",
        "\n",
        "    def entrenamiento(self, X, Y, epocas):\n",
        "        \"\"\"\n",
        "        \"\"\"\n",
        "        for epoca in range(epocas):\n",
        "            for dato in X:\n",
        "                # Definimos los datos\n",
        "                x1 = dato[0]\n",
        "                x2 = dato[1]\n",
        "                w1 = self.pesos[0]\n",
        "                w2 = self.pesos[1]\n",
        "                y_real = Y[X.index(dato)]\n",
        "                # Realizamos la prediccion del modelo\n",
        "                z = x1*w1 + x2*w2 + self.sesgo\n",
        "                y_pred = self.funcion_de_activacion(z)\n",
        "                # Actualizamos los pesos\n",
        "                self.pesos[0] = w1 + self.tasa_de_aprendizaje*(y_real - y_pred)*x1\n",
        "                self.pesos[1] = w2 + self.tasa_de_aprendizaje*(y_real - y_pred)*x2\n",
        "                self.sesgo = self.sesgo + self.tasa_de_aprendizaje*(y_real - y_pred)\n",
        "                print(f'Dato: {dato}, pesos: {self.pesos} y sesgo: {self.sesgo}')\n",
        "            print(f'Dato: {epoca}, pesos: {self.pesos} y sesgo: {self.sesgo}')\n",
        "\n",
        "    def prediccion(self, X, Y):\n",
        "         for dato in X:\n",
        "            # Definimos los datos\n",
        "            x1 = dato[0]\n",
        "            x2 = dato[1]\n",
        "            w1 = self.pesos[0]\n",
        "            w2 = self.pesos[1]\n",
        "            y_real = Y[X.index(dato)]\n",
        "            # Realizamos la prediccion del modelo\n",
        "            z = x1*w1 + x2*w2 + self.sesgo\n",
        "            y_pred = self.funcion_de_activacion(z)\n",
        "            print(f'Dato {dato}, prediccion:{y_pred}, valor real: {y_real}')"
      ],
      "metadata": {
        "id": "4GptLpawjaqp"
      },
      "execution_count": 1,
      "outputs": []
    },
    {
      "cell_type": "code",
      "source": [
        "# Datos para NOT representado con dos entradas (x2=0 siempre)\n",
        "X = [[0, 0], [1, 0]]\n",
        "Y = [1, 0]\n",
        "sesgo = 2\n",
        "pesos = [5, 3]\n",
        "tasa_de_aprendizaje = 0.1"
      ],
      "metadata": {
        "id": "dRfGcLVAjm2I"
      },
      "execution_count": 2,
      "outputs": []
    },
    {
      "cell_type": "code",
      "source": [
        "# iniciamos la clase\n",
        "p = Perceptron(pesos, sesgo, tasa_de_aprendizaje)"
      ],
      "metadata": {
        "id": "qVmVRD3qjs5w"
      },
      "execution_count": 3,
      "outputs": []
    },
    {
      "cell_type": "code",
      "source": [
        "#entrenamiento\n",
        "epocas = 10\n",
        "p.entrenamiento(X, Y, epocas)"
      ],
      "metadata": {
        "colab": {
          "base_uri": "https://localhost:8080/"
        },
        "id": "IGB9X_d3jxRn",
        "outputId": "937b93e2-38be-40a8-abd8-ce36ccfde7d7"
      },
      "execution_count": 4,
      "outputs": [
        {
          "output_type": "stream",
          "name": "stdout",
          "text": [
            "Dato: [0, 0], pesos: [5.0, 3.0] y sesgo: 2.0\n",
            "Dato: [1, 0], pesos: [4.9, 3.0] y sesgo: 1.9\n",
            "Dato: 0, pesos: [4.9, 3.0] y sesgo: 1.9\n",
            "Dato: [0, 0], pesos: [4.9, 3.0] y sesgo: 1.9\n",
            "Dato: [1, 0], pesos: [4.800000000000001, 3.0] y sesgo: 1.7999999999999998\n",
            "Dato: 1, pesos: [4.800000000000001, 3.0] y sesgo: 1.7999999999999998\n",
            "Dato: [0, 0], pesos: [4.800000000000001, 3.0] y sesgo: 1.7999999999999998\n",
            "Dato: [1, 0], pesos: [4.700000000000001, 3.0] y sesgo: 1.6999999999999997\n",
            "Dato: 2, pesos: [4.700000000000001, 3.0] y sesgo: 1.6999999999999997\n",
            "Dato: [0, 0], pesos: [4.700000000000001, 3.0] y sesgo: 1.6999999999999997\n",
            "Dato: [1, 0], pesos: [4.600000000000001, 3.0] y sesgo: 1.5999999999999996\n",
            "Dato: 3, pesos: [4.600000000000001, 3.0] y sesgo: 1.5999999999999996\n",
            "Dato: [0, 0], pesos: [4.600000000000001, 3.0] y sesgo: 1.5999999999999996\n",
            "Dato: [1, 0], pesos: [4.500000000000002, 3.0] y sesgo: 1.4999999999999996\n",
            "Dato: 4, pesos: [4.500000000000002, 3.0] y sesgo: 1.4999999999999996\n",
            "Dato: [0, 0], pesos: [4.500000000000002, 3.0] y sesgo: 1.4999999999999996\n",
            "Dato: [1, 0], pesos: [4.400000000000002, 3.0] y sesgo: 1.3999999999999995\n",
            "Dato: 5, pesos: [4.400000000000002, 3.0] y sesgo: 1.3999999999999995\n",
            "Dato: [0, 0], pesos: [4.400000000000002, 3.0] y sesgo: 1.3999999999999995\n",
            "Dato: [1, 0], pesos: [4.3000000000000025, 3.0] y sesgo: 1.2999999999999994\n",
            "Dato: 6, pesos: [4.3000000000000025, 3.0] y sesgo: 1.2999999999999994\n",
            "Dato: [0, 0], pesos: [4.3000000000000025, 3.0] y sesgo: 1.2999999999999994\n",
            "Dato: [1, 0], pesos: [4.200000000000003, 3.0] y sesgo: 1.1999999999999993\n",
            "Dato: 7, pesos: [4.200000000000003, 3.0] y sesgo: 1.1999999999999993\n",
            "Dato: [0, 0], pesos: [4.200000000000003, 3.0] y sesgo: 1.1999999999999993\n",
            "Dato: [1, 0], pesos: [4.100000000000003, 3.0] y sesgo: 1.0999999999999992\n",
            "Dato: 8, pesos: [4.100000000000003, 3.0] y sesgo: 1.0999999999999992\n",
            "Dato: [0, 0], pesos: [4.100000000000003, 3.0] y sesgo: 1.0999999999999992\n",
            "Dato: [1, 0], pesos: [4.0000000000000036, 3.0] y sesgo: 0.9999999999999992\n",
            "Dato: 9, pesos: [4.0000000000000036, 3.0] y sesgo: 0.9999999999999992\n"
          ]
        }
      ]
    }
  ]
}