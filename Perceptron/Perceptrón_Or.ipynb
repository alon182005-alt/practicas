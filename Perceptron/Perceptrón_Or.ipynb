{
  "nbformat": 4,
  "nbformat_minor": 0,
  "metadata": {
    "colab": {
      "provenance": [],
      "authorship_tag": "ABX9TyNq6jwmFbO17C7eak+lHSh0",
      "include_colab_link": true
    },
    "kernelspec": {
      "name": "python3",
      "display_name": "Python 3"
    },
    "language_info": {
      "name": "python"
    }
  },
  "cells": [
    {
      "cell_type": "markdown",
      "metadata": {
        "id": "view-in-github",
        "colab_type": "text"
      },
      "source": [
        "<a href=\"https://colab.research.google.com/github/alon182005-alt/practicas/blob/main/Perceptron/Perceptr%C3%B3n_Or.ipynb\" target=\"_parent\"><img src=\"https://colab.research.google.com/assets/colab-badge.svg\" alt=\"Open In Colab\"/></a>"
      ]
    },
    {
      "cell_type": "markdown",
      "source": [
        "## implementación del Perceptrón Or\n",
        "La compuerta OR es una operación lógica de tipo binario que genera una salida igual a 1 cuando al menos una de sus entradas tiene el valor 1.\n",
        "\n",
        "Solo devuelve 0 cuando todas las entradas son 0.\n",
        "En cualquier otro caso, el resultado es 1.\n",
        "\n",
        "##Funcionamiento\n",
        "El perceptrón combina las entradas de manera lineal y determina la salida aplicando una función de activación con umbral.\n",
        "\n",
        "Cálculo de la suma ponderada:\n",
        "\n",
        "z=𝑤1𝑥1+𝑤2𝑥2+𝑏z=w1x1+w2x2+b\n",
        "\n",
        "Aplicación de la función de activación:\n",
        "\n",
        "salida={1,si 𝑧≥0\n",
        "        | 0,si 𝑧< 0\n",
        "\n",
        "\n",
        "\n",
        "\n"
      ],
      "metadata": {
        "id": "5BVYQyXck9rx"
      }
    },
    {
      "cell_type": "code",
      "execution_count": 1,
      "metadata": {
        "id": "VBDX4HQPk5FS"
      },
      "outputs": [],
      "source": [
        "class Perceptron:\n",
        "    def __init__ (self, pesos, sesgo,tasa_de_aprendizaje):\n",
        "        \"\"\"\n",
        "        Parametros:\n",
        "            pesos: es una lista\n",
        "            sesgo: es un float\n",
        "            tasa_de_aprendizaje: es un float\n",
        "        \"\"\"\n",
        "        self.pesos = pesos\n",
        "        self.sesgo = sesgo\n",
        "        self.tasa_de_aprendizaje = tasa_de_aprendizaje\n",
        "\n",
        "    def funcion_de_activacion(self, z):\n",
        "        \"\"\"\n",
        "         Parametros:\n",
        "           z es el resultado del producto de X con pesos + el sesgo\n",
        "        \"\"\"\n",
        "        if z >= 0:\n",
        "            return 1\n",
        "        else:\n",
        "            return 0\n",
        "\n",
        "    def entrenamiento(self, X, Y, epocas):\n",
        "        \"\"\"\n",
        "        \"\"\"\n",
        "        for epoca in range(epocas):\n",
        "            for dato in X:\n",
        "                # Definimos los datos\n",
        "                x1 = dato[0]\n",
        "                x2 = dato[1]\n",
        "                w1 = self.pesos[0]\n",
        "                w2 = self.pesos[1]\n",
        "                y_real = Y[X.index(dato)]\n",
        "                # Realizamos la prediccion del modelo\n",
        "                z = x1*w1 + x2*w2 + self.sesgo\n",
        "                y_pred = self.funcion_de_activacion(z)\n",
        "                # Actualizamos los pesos\n",
        "                self.pesos[0] = w1 + self.tasa_de_aprendizaje*(y_real - y_pred)*x1\n",
        "                self.pesos[1] = w2 + self.tasa_de_aprendizaje*(y_real - y_pred)*x2\n",
        "                self.sesgo = self.sesgo + self.tasa_de_aprendizaje*(y_real - y_pred)\n",
        "                print(f'Dato: {dato}, pesos: {self.pesos} y sesgo: {self.sesgo}')\n",
        "            print(f'Dato: {epoca}, pesos: {self.pesos} y sesgo: {self.sesgo}')\n",
        "\n",
        "    def prediccion(self, X, Y):\n",
        "         for dato in X:\n",
        "            # Definimos los datos\n",
        "            x1 = dato[0]\n",
        "            x2 = dato[1]\n",
        "            w1 = self.pesos[0]\n",
        "            w2 = self.pesos[1]\n",
        "            y_real = Y[X.index(dato)]\n",
        "            # Realizamos la prediccion del modelo\n",
        "            z = x1*w1 + x2*w2 + self.sesgo\n",
        "            y_pred = self.funcion_de_activacion(z)\n",
        "            print(f'Dato {dato}, prediccion:{y_pred}, valor real: {y_real}')"
      ]
    },
    {
      "cell_type": "code",
      "source": [
        "X = [[1, 1], [0, 1],[1, 0], [0, 0]]\n",
        "Y = [1, 1, 1, 0]\n",
        "sesgo = 2\n",
        "pesos = [5, 3]\n",
        "tasa_de_aprendizaje = 0.1"
      ],
      "metadata": {
        "id": "7zHX223mnAFv"
      },
      "execution_count": 2,
      "outputs": []
    },
    {
      "cell_type": "code",
      "source": [
        "# iniciamos la clase\n",
        "p = Perceptron(pesos, sesgo, tasa_de_aprendizaje)"
      ],
      "metadata": {
        "id": "5AFMOHa6nExG"
      },
      "execution_count": 3,
      "outputs": []
    },
    {
      "cell_type": "code",
      "source": [
        "# entrenamiento\n",
        "epocas = 10\n",
        "p.entrenamiento(X, Y, epocas)"
      ],
      "metadata": {
        "colab": {
          "base_uri": "https://localhost:8080/"
        },
        "id": "jBeZDZjKnHKu",
        "outputId": "2e0d5944-5fc0-46d7-d3e2-c80ee50ad8e1"
      },
      "execution_count": 4,
      "outputs": [
        {
          "output_type": "stream",
          "name": "stdout",
          "text": [
            "Dato: [1, 1], pesos: [5.0, 3.0] y sesgo: 2.0\n",
            "Dato: [0, 1], pesos: [5.0, 3.0] y sesgo: 2.0\n",
            "Dato: [1, 0], pesos: [5.0, 3.0] y sesgo: 2.0\n",
            "Dato: [0, 0], pesos: [5.0, 3.0] y sesgo: 1.9\n",
            "Dato: 0, pesos: [5.0, 3.0] y sesgo: 1.9\n",
            "Dato: [1, 1], pesos: [5.0, 3.0] y sesgo: 1.9\n",
            "Dato: [0, 1], pesos: [5.0, 3.0] y sesgo: 1.9\n",
            "Dato: [1, 0], pesos: [5.0, 3.0] y sesgo: 1.9\n",
            "Dato: [0, 0], pesos: [5.0, 3.0] y sesgo: 1.7999999999999998\n",
            "Dato: 1, pesos: [5.0, 3.0] y sesgo: 1.7999999999999998\n",
            "Dato: [1, 1], pesos: [5.0, 3.0] y sesgo: 1.7999999999999998\n",
            "Dato: [0, 1], pesos: [5.0, 3.0] y sesgo: 1.7999999999999998\n",
            "Dato: [1, 0], pesos: [5.0, 3.0] y sesgo: 1.7999999999999998\n",
            "Dato: [0, 0], pesos: [5.0, 3.0] y sesgo: 1.6999999999999997\n",
            "Dato: 2, pesos: [5.0, 3.0] y sesgo: 1.6999999999999997\n",
            "Dato: [1, 1], pesos: [5.0, 3.0] y sesgo: 1.6999999999999997\n",
            "Dato: [0, 1], pesos: [5.0, 3.0] y sesgo: 1.6999999999999997\n",
            "Dato: [1, 0], pesos: [5.0, 3.0] y sesgo: 1.6999999999999997\n",
            "Dato: [0, 0], pesos: [5.0, 3.0] y sesgo: 1.5999999999999996\n",
            "Dato: 3, pesos: [5.0, 3.0] y sesgo: 1.5999999999999996\n",
            "Dato: [1, 1], pesos: [5.0, 3.0] y sesgo: 1.5999999999999996\n",
            "Dato: [0, 1], pesos: [5.0, 3.0] y sesgo: 1.5999999999999996\n",
            "Dato: [1, 0], pesos: [5.0, 3.0] y sesgo: 1.5999999999999996\n",
            "Dato: [0, 0], pesos: [5.0, 3.0] y sesgo: 1.4999999999999996\n",
            "Dato: 4, pesos: [5.0, 3.0] y sesgo: 1.4999999999999996\n",
            "Dato: [1, 1], pesos: [5.0, 3.0] y sesgo: 1.4999999999999996\n",
            "Dato: [0, 1], pesos: [5.0, 3.0] y sesgo: 1.4999999999999996\n",
            "Dato: [1, 0], pesos: [5.0, 3.0] y sesgo: 1.4999999999999996\n",
            "Dato: [0, 0], pesos: [5.0, 3.0] y sesgo: 1.3999999999999995\n",
            "Dato: 5, pesos: [5.0, 3.0] y sesgo: 1.3999999999999995\n",
            "Dato: [1, 1], pesos: [5.0, 3.0] y sesgo: 1.3999999999999995\n",
            "Dato: [0, 1], pesos: [5.0, 3.0] y sesgo: 1.3999999999999995\n",
            "Dato: [1, 0], pesos: [5.0, 3.0] y sesgo: 1.3999999999999995\n",
            "Dato: [0, 0], pesos: [5.0, 3.0] y sesgo: 1.2999999999999994\n",
            "Dato: 6, pesos: [5.0, 3.0] y sesgo: 1.2999999999999994\n",
            "Dato: [1, 1], pesos: [5.0, 3.0] y sesgo: 1.2999999999999994\n",
            "Dato: [0, 1], pesos: [5.0, 3.0] y sesgo: 1.2999999999999994\n",
            "Dato: [1, 0], pesos: [5.0, 3.0] y sesgo: 1.2999999999999994\n",
            "Dato: [0, 0], pesos: [5.0, 3.0] y sesgo: 1.1999999999999993\n",
            "Dato: 7, pesos: [5.0, 3.0] y sesgo: 1.1999999999999993\n",
            "Dato: [1, 1], pesos: [5.0, 3.0] y sesgo: 1.1999999999999993\n",
            "Dato: [0, 1], pesos: [5.0, 3.0] y sesgo: 1.1999999999999993\n",
            "Dato: [1, 0], pesos: [5.0, 3.0] y sesgo: 1.1999999999999993\n",
            "Dato: [0, 0], pesos: [5.0, 3.0] y sesgo: 1.0999999999999992\n",
            "Dato: 8, pesos: [5.0, 3.0] y sesgo: 1.0999999999999992\n",
            "Dato: [1, 1], pesos: [5.0, 3.0] y sesgo: 1.0999999999999992\n",
            "Dato: [0, 1], pesos: [5.0, 3.0] y sesgo: 1.0999999999999992\n",
            "Dato: [1, 0], pesos: [5.0, 3.0] y sesgo: 1.0999999999999992\n",
            "Dato: [0, 0], pesos: [5.0, 3.0] y sesgo: 0.9999999999999992\n",
            "Dato: 9, pesos: [5.0, 3.0] y sesgo: 0.9999999999999992\n"
          ]
        }
      ]
    }
  ]
}