{
  "nbformat": 4,
  "nbformat_minor": 0,
  "metadata": {
    "colab": {
      "provenance": []
    },
    "kernelspec": {
      "name": "python3",
      "display_name": "Python 3"
    },
    "language_info": {
      "name": "python"
    }
  },
  "cells": [
    {
      "cell_type": "markdown",
      "source": [
        "##Implementación de una neurona McCulloch-Pitts que simula una compuerta lógica NOT\n",
        "\n",
        "La neurona McCulloch-Pitts puede configurarse para reproducir el comportamiento de una compuerta lógica NOT, la cual es una función unaria que invierte el valor de su entrada.\n",
        "\n",
        "Esto significa que:\n",
        "\n",
        "Si la entrada es 0, la salida será 1.\n",
        "\n",
        "Si la entrada es 1, la salida será 0.\n",
        "\n",
        "Funcionamiento:\n",
        "La neurona calcula una suma ponderada multiplicando la entrada por un peso (W) y comparando el resultado con un umbral (θ).\n",
        "\n",
        "Si la suma es mayor o igual que el umbral, la neurona se activa (salida = 1).\n",
        "\n",
        "Si la suma es menor que el umbral, la neurona permanece inactiva (salida = 0).\n",
        "\n",
        "Parámetros para simular la compuerta NOT:\n",
        "\n",
        "Peso (W): −1 → invierte la señal de entrada.\n",
        "\n",
        "Umbral (θ): 0 → define el punto de activación.\n",
        "\n",
        "Tabla de verdad:\n",
        "\n",
        "[Entrada | Salida]\n",
        "  [ 0    |   1]\n",
        "  [ 1    |   0]"
      ],
      "metadata": {
        "id": "Q8lpvHxVs1oz"
      }
    },
    {
      "cell_type": "code",
      "execution_count": 1,
      "metadata": {
        "colab": {
          "base_uri": "https://localhost:8080/"
        },
        "id": "wMPS4pvesr7b",
        "outputId": "157b0bb8-54e1-4917-bdd5-67a76048c176"
      },
      "outputs": [
        {
          "output_type": "stream",
          "name": "stdout",
          "text": [
            "Input: [0], Weighted Sum: 0\n",
            "Input: [1], Weighted Sum: -1\n",
            "Predictions: [1, 0]\n"
          ]
        }
      ],
      "source": [
        "import numpy as np\n",
        "# Entradas para la neurona (una sola entrada para NOT)\n",
        "X = np.array([\n",
        "    [0],\n",
        "    [1]\n",
        "])\n",
        "# Salidas esperadas para NOT\n",
        "Y = np.array([1, 0])\n",
        "# Peso para la entrada (usamos -1 para invertir la señal)\n",
        "W = [-1]\n",
        "# Umbral para la función de activación\n",
        "umbral = 0\n",
        "\n",
        "class McCullochPitts:\n",
        "    def __init__(self, weights, umbral):\n",
        "        \"\"\"\n",
        "            Constructor de la neurona MCP.\n",
        "            Guarda las variables\n",
        "            weights -> vector de pesos iniciales\n",
        "            umbral -> umbral para usar en la funcion de activación\n",
        "        \"\"\"\n",
        "        self.weights = weights\n",
        "        self.umbral = umbral\n",
        "\n",
        "    def predict(self, X):\n",
        "        \"\"\"\n",
        "            Calcula la salida de la neurona para cada fila de entradas X.\n",
        "        \"\"\"\n",
        "        # Lista donde se guardarán las salidas\n",
        "        predictions = []\n",
        "        # Recorremos cada fila de entradas\n",
        "        for i in range(X.shape[0]):\n",
        "            # Calculamos la suma ponderada: w*x\n",
        "            weighted_sum = np.dot(self.weights, X[i])\n",
        "            # Mostramos en consola la entrada y la suma ponderada\n",
        "            print(f\"Input: {X[i]}, Weighted Sum: {weighted_sum}\")\n",
        "            # Comparación con el umbral determinar si la neurona se activa o no\n",
        "            if weighted_sum >= self.umbral:\n",
        "                predictions.append(1)\n",
        "            else:\n",
        "                predictions.append(0)\n",
        "        return predictions\n",
        "\n",
        "# Instanciamos la clase McCullochPitts\n",
        "mcp = McCullochPitts(W, umbral)\n",
        "# Calculamos las predicciones\n",
        "predictions = mcp.predict(X)\n",
        "# Mostramos el resultado final\n",
        "print(\"Predictions:\", predictions)"
      ]
    }
  ]
}